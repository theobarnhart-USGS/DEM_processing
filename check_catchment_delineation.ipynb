{
 "cells": [
  {
   "cell_type": "code",
   "execution_count": 1,
   "metadata": {},
   "outputs": [],
   "source": [
    "import glob\n",
    "import pandas as pd\n",
    "import numpy as np"
   ]
  },
  {
   "cell_type": "code",
   "execution_count": 2,
   "metadata": {},
   "outputs": [],
   "source": [
    "gages = pd.read_csv('./data/CATCHMENT_v1.csv')"
   ]
  },
  {
   "cell_type": "code",
   "execution_count": 3,
   "metadata": {},
   "outputs": [
    {
     "data": {
      "text/html": [
       "<div>\n",
       "<style scoped>\n",
       "    .dataframe tbody tr th:only-of-type {\n",
       "        vertical-align: middle;\n",
       "    }\n",
       "\n",
       "    .dataframe tbody tr th {\n",
       "        vertical-align: top;\n",
       "    }\n",
       "\n",
       "    .dataframe thead th {\n",
       "        text-align: right;\n",
       "    }\n",
       "</style>\n",
       "<table border=\"1\" class=\"dataframe\">\n",
       "  <thead>\n",
       "    <tr style=\"text-align: right;\">\n",
       "      <th></th>\n",
       "      <th>FID</th>\n",
       "      <th>Gage_no</th>\n",
       "      <th>Gage_name</th>\n",
       "      <th>Gage_type</th>\n",
       "      <th>Lat_nwis</th>\n",
       "      <th>Long_nwis</th>\n",
       "      <th>Area_nwis</th>\n",
       "      <th>Lat_snap</th>\n",
       "      <th>Long_snap</th>\n",
       "      <th>COMID</th>\n",
       "      <th>...</th>\n",
       "      <th>NHDPlusReg</th>\n",
       "      <th>State</th>\n",
       "      <th>CHECKED</th>\n",
       "      <th>QC_notes1</th>\n",
       "      <th>REVIEWED</th>\n",
       "      <th>Rev_notes2</th>\n",
       "      <th>Ver_notes3</th>\n",
       "      <th>Gage_info</th>\n",
       "      <th>DropReason</th>\n",
       "      <th>QC_final</th>\n",
       "    </tr>\n",
       "  </thead>\n",
       "  <tbody>\n",
       "    <tr>\n",
       "      <th>0</th>\n",
       "      <td>0</td>\n",
       "      <td>1098530</td>\n",
       "      <td>SUDBURY RIVER AT SAXONVILLE, MA</td>\n",
       "      <td>ContGage</td>\n",
       "      <td>42.325373</td>\n",
       "      <td>-71.397560</td>\n",
       "      <td>274.538739</td>\n",
       "      <td>42.325326</td>\n",
       "      <td>-71.397449</td>\n",
       "      <td>6772927</td>\n",
       "      <td>...</td>\n",
       "      <td>01</td>\n",
       "      <td>MA</td>\n",
       "      <td></td>\n",
       "      <td></td>\n",
       "      <td></td>\n",
       "      <td></td>\n",
       "      <td></td>\n",
       "      <td></td>\n",
       "      <td></td>\n",
       "      <td></td>\n",
       "    </tr>\n",
       "    <tr>\n",
       "      <th>1</th>\n",
       "      <td>1</td>\n",
       "      <td>1122680</td>\n",
       "      <td>MERRICK BK NR SCOTLAND, CT.</td>\n",
       "      <td>CrestStage</td>\n",
       "      <td>41.728988</td>\n",
       "      <td>-72.085076</td>\n",
       "      <td>13.493838</td>\n",
       "      <td>41.728987</td>\n",
       "      <td>-72.084926</td>\n",
       "      <td>6162963</td>\n",
       "      <td>...</td>\n",
       "      <td>01</td>\n",
       "      <td>CT</td>\n",
       "      <td></td>\n",
       "      <td></td>\n",
       "      <td></td>\n",
       "      <td></td>\n",
       "      <td></td>\n",
       "      <td></td>\n",
       "      <td></td>\n",
       "      <td></td>\n",
       "    </tr>\n",
       "    <tr>\n",
       "      <th>2</th>\n",
       "      <td>2</td>\n",
       "      <td>1176000</td>\n",
       "      <td>QUABOAG RIVER AT WEST BRIMFIELD, MA</td>\n",
       "      <td>ContGage</td>\n",
       "      <td>42.182316</td>\n",
       "      <td>-72.263691</td>\n",
       "      <td>388.498215</td>\n",
       "      <td>42.182412</td>\n",
       "      <td>-72.263445</td>\n",
       "      <td>7690649</td>\n",
       "      <td>...</td>\n",
       "      <td>01</td>\n",
       "      <td>MA</td>\n",
       "      <td></td>\n",
       "      <td></td>\n",
       "      <td></td>\n",
       "      <td></td>\n",
       "      <td></td>\n",
       "      <td></td>\n",
       "      <td></td>\n",
       "      <td></td>\n",
       "    </tr>\n",
       "    <tr>\n",
       "      <th>3</th>\n",
       "      <td>3</td>\n",
       "      <td>1173500</td>\n",
       "      <td>WARE RIVER AT GIBBS CROSSING, MA</td>\n",
       "      <td>ContGage</td>\n",
       "      <td>42.236204</td>\n",
       "      <td>-72.272580</td>\n",
       "      <td>510.227656</td>\n",
       "      <td>42.236129</td>\n",
       "      <td>-72.272568</td>\n",
       "      <td>7690465</td>\n",
       "      <td>...</td>\n",
       "      <td>01</td>\n",
       "      <td>MA</td>\n",
       "      <td></td>\n",
       "      <td></td>\n",
       "      <td></td>\n",
       "      <td></td>\n",
       "      <td></td>\n",
       "      <td></td>\n",
       "      <td></td>\n",
       "      <td></td>\n",
       "    </tr>\n",
       "    <tr>\n",
       "      <th>4</th>\n",
       "      <td>4</td>\n",
       "      <td>1127500</td>\n",
       "      <td>YANTIC RIVER AT YANTIC, CT</td>\n",
       "      <td>ContGage</td>\n",
       "      <td>41.558709</td>\n",
       "      <td>-72.121467</td>\n",
       "      <td>231.285937</td>\n",
       "      <td>41.558570</td>\n",
       "      <td>-72.121492</td>\n",
       "      <td>6168318</td>\n",
       "      <td>...</td>\n",
       "      <td>01</td>\n",
       "      <td>CT</td>\n",
       "      <td>JAF, 12/21/2015</td>\n",
       "      <td>OK.</td>\n",
       "      <td>GCB, 3/24/2017</td>\n",
       "      <td>Yes agree with move, location of streamgage is...</td>\n",
       "      <td></td>\n",
       "      <td></td>\n",
       "      <td></td>\n",
       "      <td>OK</td>\n",
       "    </tr>\n",
       "  </tbody>\n",
       "</table>\n",
       "<p>5 rows × 23 columns</p>\n",
       "</div>"
      ],
      "text/plain": [
       "   FID  Gage_no                            Gage_name   Gage_type   Lat_nwis  \\\n",
       "0    0  1098530      SUDBURY RIVER AT SAXONVILLE, MA    ContGage  42.325373   \n",
       "1    1  1122680          MERRICK BK NR SCOTLAND, CT.  CrestStage  41.728988   \n",
       "2    2  1176000  QUABOAG RIVER AT WEST BRIMFIELD, MA    ContGage  42.182316   \n",
       "3    3  1173500     WARE RIVER AT GIBBS CROSSING, MA    ContGage  42.236204   \n",
       "4    4  1127500           YANTIC RIVER AT YANTIC, CT    ContGage  41.558709   \n",
       "\n",
       "   Long_nwis   Area_nwis   Lat_snap  Long_snap    COMID   ...     NHDPlusReg  \\\n",
       "0 -71.397560  274.538739  42.325326 -71.397449  6772927   ...             01   \n",
       "1 -72.085076   13.493838  41.728987 -72.084926  6162963   ...             01   \n",
       "2 -72.263691  388.498215  42.182412 -72.263445  7690649   ...             01   \n",
       "3 -72.272580  510.227656  42.236129 -72.272568  7690465   ...             01   \n",
       "4 -72.121467  231.285937  41.558570 -72.121492  6168318   ...             01   \n",
       "\n",
       "   State          CHECKED QC_notes1        REVIEWED  \\\n",
       "0     MA                                              \n",
       "1     CT                                              \n",
       "2     MA                                              \n",
       "3     MA                                              \n",
       "4     CT  JAF, 12/21/2015       OK.  GCB, 3/24/2017   \n",
       "\n",
       "                                          Rev_notes2 Ver_notes3 Gage_info  \\\n",
       "0                                                                           \n",
       "1                                                                           \n",
       "2                                                                           \n",
       "3                                                                           \n",
       "4  Yes agree with move, location of streamgage is...                        \n",
       "\n",
       "  DropReason QC_final  \n",
       "0                      \n",
       "1                      \n",
       "2                      \n",
       "3                      \n",
       "4                  OK  \n",
       "\n",
       "[5 rows x 23 columns]"
      ]
     },
     "execution_count": 3,
     "metadata": {},
     "output_type": "execute_result"
    }
   ],
   "source": [
    "gages.head()"
   ]
  },
  {
   "cell_type": "code",
   "execution_count": 4,
   "metadata": {},
   "outputs": [],
   "source": [
    "gages.loc[gages.Lat_snap == -9999,'Lat_snap'] = np.NaN\n",
    "gages.loc[gages.Long_snap == -9999,'Long_snap'] = np.NaN"
   ]
  },
  {
   "cell_type": "code",
   "execution_count": 5,
   "metadata": {},
   "outputs": [],
   "source": [
    "gages.dropna(inplace=True)"
   ]
  },
  {
   "cell_type": "code",
   "execution_count": 7,
   "metadata": {},
   "outputs": [
    {
     "data": {
      "text/plain": [
       "Index(['FID', 'Gage_no', 'Gage_name', 'Gage_type', 'Lat_nwis', 'Long_nwis',\n",
       "       'Area_nwis', 'Lat_snap', 'Long_snap', 'COMID', 'COMID_meas',\n",
       "       'REACHCODE', 'REACH_meas', 'NHDPlusReg', 'State', 'CHECKED',\n",
       "       'QC_notes1', 'REVIEWED', 'Rev_notes2', 'Ver_notes3', 'Gage_info',\n",
       "       'DropReason', 'QC_final'],\n",
       "      dtype='object')"
      ]
     },
     "execution_count": 7,
     "metadata": {},
     "output_type": "execute_result"
    }
   ],
   "source": [
    "gages.columns"
   ]
  },
  {
   "cell_type": "code",
   "execution_count": 8,
   "metadata": {},
   "outputs": [],
   "source": [
    "def fixRegion(df):\n",
    "    reg = df.NHDPlusReg\n",
    "    \n",
    "    if reg[:2] == '03':\n",
    "        reg = '03'\n",
    "        \n",
    "    if reg[:2] == '10':\n",
    "        reg = '10'\n",
    "    \n",
    "    return reg"
   ]
  },
  {
   "cell_type": "code",
   "execution_count": 13,
   "metadata": {},
   "outputs": [],
   "source": [
    "def createFileName(df):\n",
    "    fn = 'region_%s_gageNo_%s_watershed_NHDplusV2_1.shp'%(df.NHDPlusReg,df.Gage_no)\n",
    "    return fn"
   ]
  },
  {
   "cell_type": "code",
   "execution_count": 11,
   "metadata": {},
   "outputs": [],
   "source": [
    "gages.NHDPlusReg = gages.apply(fixRegion, axis = 1)"
   ]
  },
  {
   "cell_type": "code",
   "execution_count": 14,
   "metadata": {},
   "outputs": [],
   "source": [
    "gages['fileName'] = gages.apply(createFileName, axis = 1)"
   ]
  },
  {
   "cell_type": "code",
   "execution_count": 33,
   "metadata": {},
   "outputs": [],
   "source": [
    "regions = ['01','02','03','04','05','06','07','08','09','10','11','12','13','14','15','16','17','18']"
   ]
  },
  {
   "cell_type": "code",
   "execution_count": 27,
   "metadata": {},
   "outputs": [],
   "source": [
    "compGages = pd.read_csv('./data/completed_gauges.txt',names=['fileName'])"
   ]
  },
  {
   "cell_type": "code",
   "execution_count": 29,
   "metadata": {},
   "outputs": [],
   "source": [
    "def getRegion(fileName):\n",
    "    return fileName.split('_')[1]"
   ]
  },
  {
   "cell_type": "code",
   "execution_count": 30,
   "metadata": {},
   "outputs": [],
   "source": [
    "compGages['Reg'] = compGages.fileName.map(getRegion)"
   ]
  },
  {
   "cell_type": "code",
   "execution_count": 31,
   "metadata": {},
   "outputs": [
    {
     "data": {
      "text/html": [
       "<div>\n",
       "<style scoped>\n",
       "    .dataframe tbody tr th:only-of-type {\n",
       "        vertical-align: middle;\n",
       "    }\n",
       "\n",
       "    .dataframe tbody tr th {\n",
       "        vertical-align: top;\n",
       "    }\n",
       "\n",
       "    .dataframe thead th {\n",
       "        text-align: right;\n",
       "    }\n",
       "</style>\n",
       "<table border=\"1\" class=\"dataframe\">\n",
       "  <thead>\n",
       "    <tr style=\"text-align: right;\">\n",
       "      <th></th>\n",
       "      <th>fileName</th>\n",
       "      <th>Reg</th>\n",
       "    </tr>\n",
       "  </thead>\n",
       "  <tbody>\n",
       "    <tr>\n",
       "      <th>0</th>\n",
       "      <td>region_01_gageNo_1010000_watershed_NHDplusV2_1...</td>\n",
       "      <td>01</td>\n",
       "    </tr>\n",
       "    <tr>\n",
       "      <th>1</th>\n",
       "      <td>region_01_gageNo_1010070_watershed_NHDplusV2_1...</td>\n",
       "      <td>01</td>\n",
       "    </tr>\n",
       "    <tr>\n",
       "      <th>2</th>\n",
       "      <td>region_01_gageNo_1010500_watershed_NHDplusV2_1...</td>\n",
       "      <td>01</td>\n",
       "    </tr>\n",
       "    <tr>\n",
       "      <th>3</th>\n",
       "      <td>region_01_gageNo_1011000_watershed_NHDplusV2_1...</td>\n",
       "      <td>01</td>\n",
       "    </tr>\n",
       "    <tr>\n",
       "      <th>4</th>\n",
       "      <td>region_01_gageNo_1011500_watershed_NHDplusV2_1...</td>\n",
       "      <td>01</td>\n",
       "    </tr>\n",
       "  </tbody>\n",
       "</table>\n",
       "</div>"
      ],
      "text/plain": [
       "                                            fileName Reg\n",
       "0  region_01_gageNo_1010000_watershed_NHDplusV2_1...  01\n",
       "1  region_01_gageNo_1010070_watershed_NHDplusV2_1...  01\n",
       "2  region_01_gageNo_1010500_watershed_NHDplusV2_1...  01\n",
       "3  region_01_gageNo_1011000_watershed_NHDplusV2_1...  01\n",
       "4  region_01_gageNo_1011500_watershed_NHDplusV2_1...  01"
      ]
     },
     "execution_count": 31,
     "metadata": {},
     "output_type": "execute_result"
    }
   ],
   "source": [
    "compGages.head()"
   ]
  },
  {
   "cell_type": "code",
   "execution_count": 38,
   "metadata": {},
   "outputs": [
    {
     "name": "stdout",
     "output_type": "stream",
     "text": [
      "Region 01: 0 Missing. Ratio: 408/408\n",
      "Region 02: 30 Missing. Ratio: 1006/1036\n",
      "Region 03: 1419 Missing. Ratio: 0/1419\n",
      "Region 04: 0 Missing. Ratio: 589/589\n",
      "Region 05: 0 Missing. Ratio: 939/939\n",
      "Region 06: 0 Missing. Ratio: 330/330\n",
      "Region 07: 517 Missing. Ratio: 426/943\n",
      "Region 08: 0 Missing. Ratio: 460/460\n",
      "Region 09: 0 Missing. Ratio: 173/173\n",
      "Region 10: 1568 Missing. Ratio: 0/1570\n",
      "Region 11: 103 Missing. Ratio: 643/746\n",
      "Region 12: 0 Missing. Ratio: 490/490\n",
      "Region 13: 182 Missing. Ratio: 99/281\n",
      "Region 14: 0 Missing. Ratio: 434/434\n",
      "Region 15: 0 Missing. Ratio: 303/303\n",
      "Region 16: 0 Missing. Ratio: 321/321\n",
      "Region 17: 1228 Missing. Ratio: 0/1230\n",
      "Region 18: 739 Missing. Ratio: 253/993\n"
     ]
    }
   ],
   "source": [
    "missing = []\n",
    "\n",
    "for reg in regions:\n",
    "    allGages = list(gages.loc[gages.NHDPlusReg == reg].fileName.values)\n",
    "    haveGages = list(compGages.loc[compGages.Reg == reg].fileName.values)\n",
    "    needGages = list(set(allGages) - set(haveGages)) # compute the needed dates\n",
    "    print('Region %s: %s Missing. Ratio: %s/%s'%(reg,len(needGages),len(haveGages), len(allGages)))\n",
    "    missing.append(len(needGages))"
   ]
  },
  {
   "cell_type": "code",
   "execution_count": 39,
   "metadata": {},
   "outputs": [],
   "source": [
    "out = pd.DataFrame()\n",
    "out['region'] = regions\n",
    "out['missing'] = missing"
   ]
  },
  {
   "cell_type": "code",
   "execution_count": 40,
   "metadata": {},
   "outputs": [
    {
     "data": {
      "text/html": [
       "<div>\n",
       "<style scoped>\n",
       "    .dataframe tbody tr th:only-of-type {\n",
       "        vertical-align: middle;\n",
       "    }\n",
       "\n",
       "    .dataframe tbody tr th {\n",
       "        vertical-align: top;\n",
       "    }\n",
       "\n",
       "    .dataframe thead th {\n",
       "        text-align: right;\n",
       "    }\n",
       "</style>\n",
       "<table border=\"1\" class=\"dataframe\">\n",
       "  <thead>\n",
       "    <tr style=\"text-align: right;\">\n",
       "      <th></th>\n",
       "      <th>region</th>\n",
       "      <th>missing</th>\n",
       "    </tr>\n",
       "  </thead>\n",
       "  <tbody>\n",
       "    <tr>\n",
       "      <th>0</th>\n",
       "      <td>01</td>\n",
       "      <td>0</td>\n",
       "    </tr>\n",
       "    <tr>\n",
       "      <th>3</th>\n",
       "      <td>04</td>\n",
       "      <td>0</td>\n",
       "    </tr>\n",
       "    <tr>\n",
       "      <th>4</th>\n",
       "      <td>05</td>\n",
       "      <td>0</td>\n",
       "    </tr>\n",
       "    <tr>\n",
       "      <th>5</th>\n",
       "      <td>06</td>\n",
       "      <td>0</td>\n",
       "    </tr>\n",
       "    <tr>\n",
       "      <th>7</th>\n",
       "      <td>08</td>\n",
       "      <td>0</td>\n",
       "    </tr>\n",
       "    <tr>\n",
       "      <th>8</th>\n",
       "      <td>09</td>\n",
       "      <td>0</td>\n",
       "    </tr>\n",
       "    <tr>\n",
       "      <th>11</th>\n",
       "      <td>12</td>\n",
       "      <td>0</td>\n",
       "    </tr>\n",
       "    <tr>\n",
       "      <th>13</th>\n",
       "      <td>14</td>\n",
       "      <td>0</td>\n",
       "    </tr>\n",
       "    <tr>\n",
       "      <th>14</th>\n",
       "      <td>15</td>\n",
       "      <td>0</td>\n",
       "    </tr>\n",
       "    <tr>\n",
       "      <th>15</th>\n",
       "      <td>16</td>\n",
       "      <td>0</td>\n",
       "    </tr>\n",
       "  </tbody>\n",
       "</table>\n",
       "</div>"
      ],
      "text/plain": [
       "   region  missing\n",
       "0      01        0\n",
       "3      04        0\n",
       "4      05        0\n",
       "5      06        0\n",
       "7      08        0\n",
       "8      09        0\n",
       "11     12        0\n",
       "13     14        0\n",
       "14     15        0\n",
       "15     16        0"
      ]
     },
     "execution_count": 40,
     "metadata": {},
     "output_type": "execute_result"
    }
   ],
   "source": [
    "out.loc[out.missing == 0]"
   ]
  },
  {
   "cell_type": "code",
   "execution_count": 16,
   "metadata": {},
   "outputs": [],
   "source": [
    "allGages = list(gages.fileName.values)"
   ]
  },
  {
   "cell_type": "code",
   "execution_count": 17,
   "metadata": {},
   "outputs": [
    {
     "data": {
      "text/plain": [
       "12665"
      ]
     },
     "execution_count": 17,
     "metadata": {},
     "output_type": "execute_result"
    }
   ],
   "source": [
    "len(allGages)"
   ]
  },
  {
   "cell_type": "code",
   "execution_count": 19,
   "metadata": {},
   "outputs": [],
   "source": [
    "haveGages = []\n",
    "with open('./data/completed_gauges.txt','r') as ds:\n",
    "    for l in ds:\n",
    "        haveGages.append(l)"
   ]
  },
  {
   "cell_type": "code",
   "execution_count": 22,
   "metadata": {},
   "outputs": [],
   "source": [
    "needGages = list(set(allGages) - set(haveGages)) # compute the needed dates"
   ]
  },
  {
   "cell_type": "code",
   "execution_count": 23,
   "metadata": {},
   "outputs": [
    {
     "data": {
      "text/plain": [
       "12660"
      ]
     },
     "execution_count": 23,
     "metadata": {},
     "output_type": "execute_result"
    }
   ],
   "source": [
    "len(needGages)"
   ]
  },
  {
   "cell_type": "code",
   "execution_count": 24,
   "metadata": {},
   "outputs": [
    {
     "data": {
      "text/plain": [
       "6874"
      ]
     },
     "execution_count": 24,
     "metadata": {},
     "output_type": "execute_result"
    }
   ],
   "source": [
    "len(haveGages)"
   ]
  },
  {
   "cell_type": "code",
   "execution_count": null,
   "metadata": {},
   "outputs": [],
   "source": []
  }
 ],
 "metadata": {
  "kernelspec": {
   "display_name": "Python 3",
   "language": "python",
   "name": "python3"
  },
  "language_info": {
   "codemirror_mode": {
    "name": "ipython",
    "version": 3
   },
   "file_extension": ".py",
   "mimetype": "text/x-python",
   "name": "python",
   "nbconvert_exporter": "python",
   "pygments_lexer": "ipython3",
   "version": "3.6.5"
  }
 },
 "nbformat": 4,
 "nbformat_minor": 2
}
