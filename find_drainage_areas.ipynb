{
 "cells": [
  {
   "cell_type": "code",
   "execution_count": 56,
   "metadata": {},
   "outputs": [],
   "source": [
    "#!/home/tbarnhart/miniconda3/envs/py36/bin python\n",
    "# script to extract watershed areas from gauges snapped to NHDplusV2.1\n",
    "# Theodore Barnhart | August 22, 2018 | tbarnhart@usgs.gov\n",
    "\n",
    "#from grass.pygrass.modules import Module\n",
    "import sys\n",
    "import subprocess\n",
    "import os\n",
    "import pandas as pd\n",
    "from pyproj import Proj, transform\n",
    "import numpy as np"
   ]
  },
  {
   "cell_type": "code",
   "execution_count": 18,
   "metadata": {},
   "outputs": [],
   "source": [
    "#reg = sys.argv[1] # extract coommand line argument 1, region to process\n",
    "reg = '16'"
   ]
  },
  {
   "cell_type": "code",
   "execution_count": null,
   "metadata": {},
   "outputs": [],
   "source": [
    "workspace = '/home/tbarnhart/projects/DEM_processing/data'\n",
    "drainDirPath = os.path.join(workspace,'NHDplusV21_facfdr','region_%s_fdr.tiff'%(reg))"
   ]
  },
  {
   "cell_type": "code",
   "execution_count": 39,
   "metadata": {},
   "outputs": [],
   "source": [
    "fl = '/data1/projectsx/WAUSP_National_Model/CPG_data/CATCHMENT_v1.csv'\n",
    "gauges = pd.read_csv(fl)"
   ]
  },
  {
   "cell_type": "code",
   "execution_count": 40,
   "metadata": {},
   "outputs": [],
   "source": [
    "gauges.loc[gauges.Lat_snap == -9999,'Lat_snap'] = np.NaN\n",
    "gauges.loc[gauges.Long_snap == -9999,'Long_snap'] = np.NaN"
   ]
  },
  {
   "cell_type": "code",
   "execution_count": 41,
   "metadata": {},
   "outputs": [],
   "source": [
    "def fixRegion(df):\n",
    "    '''Fix region 3, which is divided in the original data set for some reason.'''\n",
    "    reg = df.NHDPlusReg # get region\n",
    "    \n",
    "    if reg[:2] == '03':\n",
    "        reg = '03'\n",
    "        \n",
    "    return reg"
   ]
  },
  {
   "cell_type": "code",
   "execution_count": 42,
   "metadata": {},
   "outputs": [],
   "source": [
    "gauges['NHDPlusReg'] = gauges.apply(fixRegion,axis=1) # fix region 3"
   ]
  },
  {
   "cell_type": "code",
   "execution_count": 43,
   "metadata": {},
   "outputs": [],
   "source": [
    "gauges = gauges.loc[gauges.NHDPlusReg == reg]"
   ]
  },
  {
   "cell_type": "code",
   "execution_count": 77,
   "metadata": {},
   "outputs": [],
   "source": [
    "# create list of gauge locations\n",
    "\n",
    "# infill the missing snapped locations with NWIS locations\n",
    "gauges.loc[np.isnan(gauges.Lat_snap) == 1,'Lat_snap'] = gauges.loc[np.isnan(gauges.Lat_snap) == 1].Lat_nwis\n",
    "gauges.loc[np.isnan(gauges.Long_snap) == 1,'Long_snap'] = gauges.loc[np.isnan(gauges.Long_snap) == 1].Long_nwis\n",
    "\n",
    "lons = gauges.Long_snap.values\n",
    "lats = gauges.Lat_snap.values\n",
    "gaugeID = gauges.Gage_no.values"
   ]
  },
  {
   "cell_type": "code",
   "execution_count": 68,
   "metadata": {},
   "outputs": [],
   "source": [
    "inProj = '+proj=longlat +ellps=GRS80 +towgs84=0,0,0,0,0,0,0 +no_defs' # projection of points pulled from shapefile\n",
    "outProj = '+proj=aea +lat_1=29.5 +lat_2=45.5 +lat_0=23 +lon_0=-96 +x_0=0 +y_0=0 +ellps=GRS80 +towgs84=0,0,0,0,0,0,0 +units=m +no_defs' # pulled from FDR\n",
    "\n",
    "inProj = Proj(inProj)\n",
    "outProj = Proj(outProj)"
   ]
  },
  {
   "cell_type": "code",
   "execution_count": 74,
   "metadata": {},
   "outputs": [],
   "source": [
    "# reporject the gauges\n",
    "xs = []\n",
    "ys = []\n",
    "\n",
    "for lon,lat in zip(lons,lats):\n",
    "    x,y = transform(inProj,outProj,lon,lat)\n",
    "    xs.append(x)\n",
    "    ys.append(y)"
   ]
  },
  {
   "cell_type": "code",
   "execution_count": null,
   "metadata": {},
   "outputs": [],
   "source": [
    "# now for the GRASS code\n",
    "\n",
    "# define functions to use\n",
    "r_external = Module('r.external')\n",
    "r_water_outlet = Module('r.water.outlet')\n",
    "r_to_vect = Module('r.to.vect')\n",
    "v_out_ogr = Module('v.out.ogr')\n",
    "g_region = Module('g.region')"
   ]
  },
  {
   "cell_type": "code",
   "execution_count": null,
   "metadata": {},
   "outputs": [],
   "source": [
    "r_external(input=drainDirPath,output='dir')\n",
    "r_region(res = 30) # set region resolution\n",
    "for ID,x,y in zip(gaugeID,xs,ys):\n",
    "    outfl = os.path.join(workspace,'gauges','region_%s_gageNo_%s_watershed_NHDplusV21.shp'%(reg,ID)) # format output string\n",
    "    r_water_outlet(input = 'dir', output = 'watershed', coordinates = '%s,%s'%(x,y), overwrite=True) # delineate watershed\n",
    "    r_to_vect(input = 'watershed', output = 'boundary', type = 'area') # convert raster to vector\n",
    "    v_out_ogr(input = 'boundary', type = 'area', output = 'outfl', format = 'ESRI_Shapefile') # export the watershed boundary"
   ]
  }
 ],
 "metadata": {
  "kernelspec": {
   "display_name": "Python 3",
   "language": "python",
   "name": "python3"
  },
  "language_info": {
   "codemirror_mode": {
    "name": "ipython",
    "version": 3
   },
   "file_extension": ".py",
   "mimetype": "text/x-python",
   "name": "python",
   "nbconvert_exporter": "python",
   "pygments_lexer": "ipython3",
   "version": "3.6.5"
  }
 },
 "nbformat": 4,
 "nbformat_minor": 2
}
