{
 "cells": [
  {
   "cell_type": "code",
   "execution_count": 2,
   "metadata": {},
   "outputs": [],
   "source": [
    "import rasterio as rs\n",
    "import numpy as np\n",
    "import sys\n",
    "import os"
   ]
  },
  {
   "cell_type": "code",
   "execution_count": 5,
   "metadata": {},
   "outputs": [],
   "source": [
    "reg = sys.argv[1] # first command line argument\n",
    "workingDir = '~/projects/DEM_processing/data/NHDplusV21_facfdr' # working directory\n",
    "inRast = os.path.join(workingDir,'region_%s_fdr.vrt'%(reg)) # input raster path creation\n",
    "outRastTau = os.path.join(workingDir,'region_%s_fdr_tau.tiff'%(reg)) # tauDEM reclassified raster\n",
    "outRastGRASS = os.path.join(workingDir,'region_%s_fdr_grass.tiff'%(reg)) # GRASS reclassified raster"
   ]
  },
  {
   "cell_type": "code",
   "execution_count": 4,
   "metadata": {
    "collapsed": true
   },
   "outputs": [
    {
     "ename": "RasterioIOError",
     "evalue": "~/projects/DEM_processing/data/NHDplusV21_facfdr/region_-f_fdr.vrt: No such file or directory",
     "output_type": "error",
     "traceback": [
      "\u001b[0;31m---------------------------------------------------------------------------\u001b[0m",
      "\u001b[0;31mCPLE_OpenFailed\u001b[0m                           Traceback (most recent call last)",
      "\u001b[0;32mrasterio/_base.pyx\u001b[0m in \u001b[0;36mrasterio._base.DatasetReader.start (rasterio/_base.c:2847)\u001b[0;34m()\u001b[0m\n",
      "\u001b[0;32mrasterio/_base.pyx\u001b[0m in \u001b[0;36mrasterio._base.DatasetReader.start (rasterio/_base.c:2799)\u001b[0;34m()\u001b[0m\n",
      "\u001b[0;32mrasterio/_err.pyx\u001b[0m in \u001b[0;36mrasterio._err.CPLErrors.check (rasterio/_err.c:1773)\u001b[0;34m()\u001b[0m\n",
      "\u001b[0;31mCPLE_OpenFailed\u001b[0m: ~/projects/DEM_processing/data/NHDplusV21_facfdr/region_-f_fdr.vrt: No such file or directory",
      "\nDuring handling of the above exception, another exception occurred:\n",
      "\u001b[0;31mRasterioIOError\u001b[0m                           Traceback (most recent call last)",
      "\u001b[0;32m<ipython-input-4-441adf3ee532>\u001b[0m in \u001b[0;36m<module>\u001b[0;34m()\u001b[0m\n\u001b[1;32m      6\u001b[0m \u001b[0;34m\u001b[0m\u001b[0m\n\u001b[1;32m      7\u001b[0m \u001b[0;31m# load input data\u001b[0m\u001b[0;34m\u001b[0m\u001b[0;34m\u001b[0m\u001b[0m\n\u001b[0;32m----> 8\u001b[0;31m \u001b[0;32mwith\u001b[0m \u001b[0mrs\u001b[0m\u001b[0;34m.\u001b[0m\u001b[0mopen\u001b[0m\u001b[0;34m(\u001b[0m\u001b[0minRast\u001b[0m\u001b[0;34m)\u001b[0m \u001b[0;32mas\u001b[0m \u001b[0mds\u001b[0m\u001b[0;34m:\u001b[0m\u001b[0;34m\u001b[0m\u001b[0m\n\u001b[0m\u001b[1;32m      9\u001b[0m     \u001b[0mdat\u001b[0m \u001b[0;34m=\u001b[0m \u001b[0mds\u001b[0m\u001b[0;34m.\u001b[0m\u001b[0mread\u001b[0m\u001b[0;34m(\u001b[0m\u001b[0;36m1\u001b[0m\u001b[0;34m)\u001b[0m\u001b[0;34m\u001b[0m\u001b[0m\n\u001b[1;32m     10\u001b[0m     \u001b[0mmeta\u001b[0m \u001b[0;34m=\u001b[0m \u001b[0mds\u001b[0m\u001b[0;34m.\u001b[0m\u001b[0mmeta\u001b[0m\u001b[0;34m.\u001b[0m\u001b[0mcopy\u001b[0m\u001b[0;34m(\u001b[0m\u001b[0;34m)\u001b[0m \u001b[0;31m# save the metadata for output later\u001b[0m\u001b[0;34m\u001b[0m\u001b[0m\n",
      "\u001b[0;32m~/miniconda3/envs/py36/lib/python3.6/site-packages/rasterio/__init__.py\u001b[0m in \u001b[0;36mopen\u001b[0;34m(path, mode, driver, width, height, count, crs, transform, dtype, nodata, **kwargs)\u001b[0m\n\u001b[1;32m    191\u001b[0m         raise ValueError(\n\u001b[1;32m    192\u001b[0m             \"mode string must be one of 'r', 'r+', or 'w', not %s\" % mode)\n\u001b[0;32m--> 193\u001b[0;31m     \u001b[0ms\u001b[0m\u001b[0;34m.\u001b[0m\u001b[0mstart\u001b[0m\u001b[0;34m(\u001b[0m\u001b[0;34m)\u001b[0m\u001b[0;34m\u001b[0m\u001b[0m\n\u001b[0m\u001b[1;32m    194\u001b[0m     \u001b[0;32mreturn\u001b[0m \u001b[0ms\u001b[0m\u001b[0;34m\u001b[0m\u001b[0m\n\u001b[1;32m    195\u001b[0m \u001b[0;34m\u001b[0m\u001b[0m\n",
      "\u001b[0;32mrasterio/_base.pyx\u001b[0m in \u001b[0;36mrasterio._base.DatasetReader.start (rasterio/_base.c:2969)\u001b[0;34m()\u001b[0m\n",
      "\u001b[0;31mRasterioIOError\u001b[0m: ~/projects/DEM_processing/data/NHDplusV21_facfdr/region_-f_fdr.vrt: No such file or directory"
     ]
    }
   ],
   "source": [
    "# load input data\n",
    "with rs.open(inRast) as ds:\n",
    "    dat = ds.read(1)\n",
    "    meta = ds.meta.copy() # save the metadata for output later\n",
    "    \n",
    "# edit the metadata\n",
    "meta.update({'driver':'GTiff'})"
   ]
  },
  {
   "cell_type": "code",
   "execution_count": null,
   "metadata": {},
   "outputs": [],
   "source": [
    "tauDir = dat.copy()\n",
    "# remap NHDplus flow direction to TauDEM flow Direction\n",
    "# east is ok\n",
    "tauDir[dat == 2] = 8 # stauDirheast\n",
    "tauDir[dat == 4] =  7 # stauDirh\n",
    "tauDir[dat == 8] = 6 # stauDirhwest\n",
    "tauDir[dat == 16] = 5 # west\n",
    "tauDir[dat == 32] = 4 # northwest\n",
    "tauDir[dat == 64] = 3 # north\n",
    "tauDir[dat == 128] = 2 # northeast\n",
    "\n",
    "with rs.open(outRastTau,'w',**meta) as dst:\n",
    "    dst.write(tauDir)\n",
    "\n",
    "\n",
    "grassDir = dat.copy()\n",
    "# remap NHDplus flow direction to GRASS flow direction\n",
    "grassDir[dat == 128] = 1 # northeast\n",
    "grassDir[dat == 64] = 2 # north\n",
    "grassDir[dat == 32] = 3 # northwest\n",
    "grassDir[dat == 16] = 4 # west\n",
    "grassDir[dat == 8] = 5 # southwest\n",
    "grassDir[dat == 4] = 6 # south\n",
    "grassDir[dat == 2] = 7 # southeast\n",
    "grassDir[dat == 1] = 8 # east\n",
    "\n",
    "with rs.open(outRastGRASS,'w',**meta) as dst:\n",
    "    dst.write(grassDir)"
   ]
  }
 ],
 "metadata": {
  "kernelspec": {
   "display_name": "Python 3",
   "language": "python",
   "name": "python3"
  },
  "language_info": {
   "codemirror_mode": {
    "name": "ipython",
    "version": 3
   },
   "file_extension": ".py",
   "mimetype": "text/x-python",
   "name": "python",
   "nbconvert_exporter": "python",
   "pygments_lexer": "ipython3",
   "version": "3.6.5"
  }
 },
 "nbformat": 4,
 "nbformat_minor": 2
}
